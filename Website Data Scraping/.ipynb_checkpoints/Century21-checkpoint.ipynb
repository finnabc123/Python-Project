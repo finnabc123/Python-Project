{
 "cells": [
  {
   "cell_type": "code",
   "execution_count": 204,
   "metadata": {},
   "outputs": [
    {
     "name": "stdout",
     "output_type": "stream",
     "text": [
      "3\n"
     ]
    }
   ],
   "source": [
    "import requests\n",
    "from bs4 import BeautifulSoup\n",
    "\n",
    "r=requests.get(\"https://www.pythonhow.com/real-estate/rock-springs-wy/LCWYROCKSPRINGS/\")\n",
    "c=r.content\n",
    "soup=BeautifulSoup(c,\"html.parser\")\n",
    "\n",
    "all=soup.find_all(\"div\", {\"class\":\"propertyRow\"})\n",
    "\n",
    "all[0].find(\"h4\",{\"class\":\"propPrice\"}).text.replace(\"\\n\", \"\")\n",
    "# print(all)\n",
    "\n",
    "page_number=soup.find_all(\"a\", {\"class\":\"Page\"})[-1].text\n",
    "print(page_number)\n",
    "\n",
    "storeData=[]\n",
    "for item in all:\n",
    "    dict={}\n",
    "    dict[\"Address\"]=item.find(\"h4\", {\"class\":\"propPrice\"}).text.replace(\"\\n\", \"\")\n",
    "    try:\n",
    "        dict[\"Locality\"]=item.find_all(\"span\", {\"class\":\"propAddressCollapse\"})[0].text\n",
    "    except:\n",
    "        dict[\"Locality\"]=None\n",
    "    dict[\"Price\"]=item.find_all(\"span\", {\"class\":\"propAddressCollapse\"})[1].text\n",
    "    try:\n",
    "        dict[\"Bed\"]=item.find(\"span\", {\"class\":\"infoBed\"}).find(\"b\").text\n",
    "    except:\n",
    "        dict[\"Bed\"]=None\n",
    "\n",
    "    try:\n",
    "        dict[\"Area\"]=item.find(\"span\", {\"class\":\"infoSqFt\"}).find(\"b\").text\n",
    "    except:\n",
    "        dict[\"Area\"]=None\n",
    "\n",
    "    try:\n",
    "        dict[\"Full Bath\"]=item.find(\"span\", {\"class\":\"infoValueFullBath\"}).find(\"b\").text\n",
    "    except:\n",
    "        dict[\"Full Bath\"]=None\n",
    "\n",
    "    try:\n",
    "        dict[\"Half Bath\"]=item.find(\"span\", {\"class\":\"infoValueHalfBath\"}).find(\"b\").text\n",
    "    except:\n",
    "        dict[\"Half Bath\"]=None\n",
    "\n",
    "    for column_group in item.find_all(\"div\",{\"class\":\"columnGroup\"}):\n",
    "#         print(column_group)\n",
    "        for feature_group, feature_name in zip(column_group.find_all(\"span\",{\"class\":\"featureGroup\"}), column_group.find_all(\"span\", {\"class\":\"featureName\"})):\n",
    "#             print(feature_group.text, feature_name.text)\n",
    "            if \"Lot Size\" in feature_group.text:\n",
    "                dict[\"Lot Size\"] = feature_name.text\n",
    "            \n",
    "    storeData.append(dict) \n",
    "print(\" \")\n",
    "print(storeData)\n",
    "    \n",
    "    # df.to_csv(\"OutputCSV_File.csv\")\n",
    "\n",
    "\n",
    "\n",
    "\n",
    "import pandas\n",
    "df=pandas.DataFrame(storeData)\n",
    "\n",
    "\n",
    "df\n",
    "\n",
    "\n",
    "# base_url=\"https://www.pythonhow.com/real-estate/rock-springs-wy/LCWYROCKSPRINGS/t=0&s=\"\n",
    "\n",
    "# for page in range(0,int(page_number)*10,10):\n",
    "#     print(base_url+str(page)+\".html\") \n",
    "#     r=requests.get(base_url+str(page))\n",
    "#     c=r.content\n",
    "#     soup=BeautifulSoup(c,\"html.parser\")\n",
    "#     all=soup.find_all(\"div\", {\"class\":\"propertyRow\"})"
   ]
  },
  {
   "cell_type": "code",
   "execution_count": null,
   "metadata": {},
   "outputs": [],
   "source": []
  }
 ],
 "metadata": {
  "kernelspec": {
   "display_name": "Python 3",
   "language": "python",
   "name": "python3"
  },
  "language_info": {
   "codemirror_mode": {
    "name": "ipython",
    "version": 3
   },
   "file_extension": ".py",
   "mimetype": "text/x-python",
   "name": "python",
   "nbconvert_exporter": "python",
   "pygments_lexer": "ipython3",
   "version": "3.7.0"
  }
 },
 "nbformat": 4,
 "nbformat_minor": 2
}
