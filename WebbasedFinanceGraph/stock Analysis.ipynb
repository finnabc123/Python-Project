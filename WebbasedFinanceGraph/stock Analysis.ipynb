{
 "cells": [
  {
   "cell_type": "code",
   "execution_count": 85,
   "metadata": {},
   "outputs": [
    {
     "name": "stdout",
     "output_type": "stream",
     "text": [
      "5y\n",
      "              open      high     low   close   volume\n",
      "date                                                 \n",
      "2016-03-01  703.62  718.8100  699.77  718.81  2151419\n",
      "2016-03-02  719.00  720.0000  712.00  718.85  1629003\n",
      "2016-03-03  718.68  719.4500  706.02  712.42  1957974\n",
      "2016-03-04  714.99  716.4900  706.02  710.89  1972077\n",
      "2016-03-07  706.90  708.0912  686.90  695.16  2988026\n",
      "2016-03-08  688.59  703.7900  685.34  693.97  2076331\n",
      "2016-03-09  698.47  705.6800  694.00  705.24  1421515\n",
      "2016-03-10  708.12  716.4400  703.36  712.82  2833525\n",
      "              open      high     low   close   volume Status   Middle  Height\n",
      "date                                                                         \n",
      "2016-03-01  703.62  718.8100  699.77  718.81  2151419   None  711.215   15.19\n",
      "2016-03-02  719.00  720.0000  712.00  718.85  1629003   None  718.925    0.15\n",
      "2016-03-03  718.68  719.4500  706.02  712.42  1957974   None  715.550    6.26\n",
      "2016-03-04  714.99  716.4900  706.02  710.89  1972077   None  712.940    4.10\n",
      "2016-03-07  706.90  708.0912  686.90  695.16  2988026   None  701.030   11.74\n",
      "2016-03-08  688.59  703.7900  685.34  693.97  2076331   None  691.280    5.38\n",
      "2016-03-09  698.47  705.6800  694.00  705.24  1421515   None  701.855    6.77\n",
      "2016-03-10  708.12  716.4400  703.36  712.82  2833525   None  710.470    4.70\n"
     ]
    }
   ],
   "source": [
    "import pandas as pd\n",
    "pd.core.common.is_list_like = pd.api.types.is_list_like\n",
    "from pandas_datareader import data\n",
    "import datetime\n",
    "from bokeh.plotting import figure, show, output_file\n",
    "\n",
    "start=datetime.datetime(2016,3,1)\n",
    "end=datetime.datetime(2016,3,10)\n",
    "\n",
    "df = data.DataReader(name='GOOG', data_source='iex', start=start, end=end)\n",
    "print(df)\n",
    "\n",
    "def inc_dec(c,o):\n",
    "    if c > o:\n",
    "        value=\"Increase\"\n",
    "    elif c < o:\n",
    "        value=\"Decrease\"\n",
    "    else:\n",
    "        value=\"Euual\"\n",
    "\n",
    "df[\"Status\"]=[inc_dec(c,o) for c, o in zip(df.close, df.open)]\n",
    "df[\"Middle\"]=(df.open+df.close)/2\n",
    "df[\"Height\"]=abs(df.close-df.open)\n",
    "print(df)\n",
    "\n",
    "p=figure(x_axis_type='datetime', width=1000, height=300, aspect_scale=True)\n",
    "p.title.text=\"Candlestick Chart\"\n",
    "p.title.text_font_size=\"24pt\"\n",
    "p.title.align=\"center\"\n",
    "p.grid.grid_line_alpha=0.5\n",
    "\n",
    "hours_12=12*60*60*1000\n",
    "\n",
    "p.rect(df.index[df.Status==\"Increase\"], df.Middle[df.Status==\"Increase\"], hours_12, df.Height[df.Status==\"Increase\"],fill_color=\"green\",line_color=\"black\")\n",
    "\n",
    "p.rect(df.index[df.Status==\"Decrease\"], df.Middle[df.Status==\"Decrease\"], hours_12, df.Height[df.Status==\"Decrease\"],fill_color=\"red\",line_color=\"black\")\n",
    "\n",
    "p.segment(df.index, df.high, df.index, df.low, color=\"Black\")\n",
    "\n",
    "output_file(\"CS.html\")\n",
    "show(p)\n",
    "\n"
   ]
  },
  {
   "cell_type": "code",
   "execution_count": null,
   "metadata": {},
   "outputs": [],
   "source": []
  }
 ],
 "metadata": {
  "kernelspec": {
   "display_name": "Python 3",
   "language": "python",
   "name": "python3"
  },
  "language_info": {
   "codemirror_mode": {
    "name": "ipython",
    "version": 3
   },
   "file_extension": ".py",
   "mimetype": "text/x-python",
   "name": "python",
   "nbconvert_exporter": "python",
   "pygments_lexer": "ipython3",
   "version": "3.7.0"
  }
 },
 "nbformat": 4,
 "nbformat_minor": 2
}
